{
 "cells": [
  {
   "cell_type": "code",
   "execution_count": 1,
   "metadata": {},
   "outputs": [
    {
     "name": "stdout",
     "output_type": "stream",
     "text": [
      "WARNING:tensorflow:From c:\\users\\leon\\appdata\\local\\programs\\python\\python38\\lib\\site-packages\\tensorflow\\python\\compat\\v2_compat.py:96: disable_resource_variables (from tensorflow.python.ops.variable_scope) is deprecated and will be removed in a future version.\n",
      "Instructions for updating:\n",
      "non-resource variables are not supported in the long term\n"
     ]
    },
    {
     "name": "stderr",
     "output_type": "stream",
     "text": [
      "C:\\Users\\Leon\\Downloads\\Marabou-master\\Marabou-master\\maraboupy\\Marabou.py:31: UserWarning: ONNX parser is unavailable because onnx or onnxruntime packages are not installed\n",
      "  warnings.warn(\"ONNX parser is unavailable because onnx or onnxruntime packages are not installed\")\n"
     ]
    }
   ],
   "source": [
    "import numpy as np\n",
    "import tensorflow as tf\n",
    "import matplotlib.pyplot as plt\n",
    "from maraboupy import Marabou\n",
    "from datetime import datetime"
   ]
  },
  {
   "cell_type": "markdown",
   "metadata": {},
   "source": [
    "## Parameters"
   ]
  },
  {
   "cell_type": "markdown",
   "metadata": {},
   "source": [
    "### Parameters for the Tensorflow Model"
   ]
  },
  {
   "cell_type": "code",
   "execution_count": 2,
   "metadata": {},
   "outputs": [],
   "source": [
    "TF_TRAIN_SHUFFLE = 10_000\n",
    "TF_TRAIN_BATCH = 32\n",
    "TF_TRAIN_EPOCHS = 5"
   ]
  },
  {
   "cell_type": "markdown",
   "metadata": {},
   "source": [
    "### Parameters for Fast Gradient Sign Method"
   ]
  },
  {
   "cell_type": "code",
   "execution_count": 3,
   "metadata": {},
   "outputs": [],
   "source": [
    "FGSM_EPSILON = 0.15\n",
    "FGSM_NUM_SAMPLES = 1_000\n",
    "FGSM_RETRAIN_SHUFFLE = 10_000\n",
    "FGSM_RETRAIN_BATCH = 32\n",
    "FGSM_RETRAIN_EPOCHS = 5"
   ]
  },
  {
   "cell_type": "markdown",
   "metadata": {},
   "source": [
    "### Parameters for Marabou Adversarial Robustness"
   ]
  },
  {
   "cell_type": "code",
   "execution_count": 90,
   "metadata": {},
   "outputs": [],
   "source": [
    "MB_MODEL_PATH = \"mnist_model\"\n",
    "MB_NUM_SAMPLES = 1\n",
    "MB_DELTA = 0.05\n",
    "MB_EPSILON = 0.2"
   ]
  },
  {
   "cell_type": "markdown",
   "metadata": {},
   "source": [
    "## Create and Train MNIST Model"
   ]
  },
  {
   "cell_type": "markdown",
   "metadata": {},
   "source": [
    "### Obtain Dataset"
   ]
  },
  {
   "cell_type": "code",
   "execution_count": 5,
   "metadata": {},
   "outputs": [
    {
     "name": "stdout",
     "output_type": "stream",
     "text": [
      "train data shape (60000, 784) (60000,)\n",
      "test data shape (10000, 784) (10000,)\n"
     ]
    }
   ],
   "source": [
    "(train_x, train_y), (test_x, test_y) = tf.keras.datasets.mnist.load_data()\n",
    "train_x = train_x.reshape((train_x.shape[0], 784)) / 255.0\n",
    "test_x = test_x.reshape((test_x.shape[0], 784)) / 255.0\n",
    "print(\"train data shape\", train_x.shape, train_y.shape)\n",
    "print(\"test data shape\", test_x.shape, test_y.shape)"
   ]
  },
  {
   "cell_type": "code",
   "execution_count": 6,
   "metadata": {},
   "outputs": [],
   "source": [
    "train_data = tf.data.Dataset \\\n",
    "    .from_tensor_slices((train_x, train_y)) \\\n",
    "    .shuffle(TF_TRAIN_SHUFFLE) \\\n",
    "    .batch(TF_TRAIN_BATCH)"
   ]
  },
  {
   "cell_type": "markdown",
   "metadata": {},
   "source": [
    "### Create Model"
   ]
  },
  {
   "cell_type": "code",
   "execution_count": 7,
   "metadata": {},
   "outputs": [],
   "source": [
    "tf_model = tf.keras.models.Sequential([\n",
    "    tf.keras.layers.Input(shape=(784)),\n",
    "    tf.keras.layers.Dense(16, activation=tf.keras.layers.ReLU()),\n",
    "    tf.keras.layers.Dense(16, activation=tf.keras.layers.ReLU()),\n",
    "    tf.keras.layers.Dense(10),\n",
    "])"
   ]
  },
  {
   "cell_type": "code",
   "execution_count": 8,
   "metadata": {},
   "outputs": [
    {
     "name": "stdout",
     "output_type": "stream",
     "text": [
      "Model: \"sequential\"\n",
      "_________________________________________________________________\n",
      "Layer (type)                 Output Shape              Param #   \n",
      "=================================================================\n",
      "dense (Dense)                (None, 16)                12560     \n",
      "_________________________________________________________________\n",
      "dense_1 (Dense)              (None, 16)                272       \n",
      "_________________________________________________________________\n",
      "dense_2 (Dense)              (None, 10)                170       \n",
      "=================================================================\n",
      "Total params: 13,002\n",
      "Trainable params: 13,002\n",
      "Non-trainable params: 0\n",
      "_________________________________________________________________\n"
     ]
    }
   ],
   "source": [
    "tf_model.summary()"
   ]
  },
  {
   "cell_type": "markdown",
   "metadata": {},
   "source": [
    "### Train Model"
   ]
  },
  {
   "cell_type": "code",
   "execution_count": 9,
   "metadata": {},
   "outputs": [],
   "source": [
    "loss_fn = tf.keras.losses.SparseCategoricalCrossentropy(from_logits=True)\n",
    "metric_fn = tf.keras.metrics.SparseCategoricalAccuracy()\n",
    "tf_model.compile(loss=loss_fn, metrics=[metric_fn])"
   ]
  },
  {
   "cell_type": "code",
   "execution_count": 10,
   "metadata": {},
   "outputs": [
    {
     "name": "stdout",
     "output_type": "stream",
     "text": [
      "Epoch 1/5\n",
      "1875/1875 [==============================] - 1s 556us/step - loss: 0.7727 - sparse_categorical_accuracy: 0.7684\n",
      "Epoch 2/5\n",
      "1875/1875 [==============================] - 1s 558us/step - loss: 0.2623 - sparse_categorical_accuracy: 0.9251\n",
      "Epoch 3/5\n",
      "1875/1875 [==============================] - 1s 569us/step - loss: 0.2267 - sparse_categorical_accuracy: 0.9353\n",
      "Epoch 4/5\n",
      "1875/1875 [==============================] - 1s 581us/step - loss: 0.2096 - sparse_categorical_accuracy: 0.9409\n",
      "Epoch 5/5\n",
      "1875/1875 [==============================] - 1s 553us/step - loss: 0.1954 - sparse_categorical_accuracy: 0.9449\n"
     ]
    },
    {
     "data": {
      "text/plain": [
       "<tensorflow.python.keras.callbacks.History at 0x1f9e3787f10>"
      ]
     },
     "execution_count": 10,
     "metadata": {},
     "output_type": "execute_result"
    }
   ],
   "source": [
    "tf_model.fit(train_data, epochs=TF_TRAIN_EPOCHS)"
   ]
  },
  {
   "cell_type": "markdown",
   "metadata": {},
   "source": [
    "### Evaluate on Test Data"
   ]
  },
  {
   "cell_type": "code",
   "execution_count": 11,
   "metadata": {},
   "outputs": [
    {
     "name": "stdout",
     "output_type": "stream",
     "text": [
      "313/313 [==============================] - 0s 322us/step - loss: 0.1953 - sparse_categorical_accuracy: 0.9425\n"
     ]
    },
    {
     "data": {
      "text/plain": [
       "[0.19532063603401184, 0.9424999952316284]"
      ]
     },
     "execution_count": 11,
     "metadata": {},
     "output_type": "execute_result"
    }
   ],
   "source": [
    "tf_model.evaluate(test_x, test_y)"
   ]
  },
  {
   "cell_type": "markdown",
   "metadata": {},
   "source": [
    "## Try to Prove Adversarial Robustness Using Marabou"
   ]
  },
  {
   "cell_type": "markdown",
   "metadata": {},
   "source": [
    "### Export for Marabou"
   ]
  },
  {
   "cell_type": "code",
   "execution_count": 12,
   "metadata": {},
   "outputs": [
    {
     "name": "stderr",
     "output_type": "stream",
     "text": [
      "WARNING:absl:Found untraced functions such as re_lu_layer_call_and_return_conditional_losses, re_lu_layer_call_fn, re_lu_1_layer_call_and_return_conditional_losses, re_lu_1_layer_call_fn, re_lu_layer_call_fn while saving (showing 5 of 10). These functions will not be directly callable after loading.\n",
      "WARNING:absl:Found untraced functions such as re_lu_layer_call_and_return_conditional_losses, re_lu_layer_call_fn, re_lu_1_layer_call_and_return_conditional_losses, re_lu_1_layer_call_fn, re_lu_layer_call_fn while saving (showing 5 of 10). These functions will not be directly callable after loading.\n"
     ]
    },
    {
     "name": "stdout",
     "output_type": "stream",
     "text": [
      "INFO:tensorflow:Assets written to: mnist_model\\assets\n"
     ]
    },
    {
     "name": "stderr",
     "output_type": "stream",
     "text": [
      "INFO:tensorflow:Assets written to: mnist_model\\assets\n"
     ]
    }
   ],
   "source": [
    "tf.saved_model.save(tf_model, MB_MODEL_PATH)"
   ]
  },
  {
   "cell_type": "markdown",
   "metadata": {},
   "source": [
    "### Generate Samples"
   ]
  },
  {
   "cell_type": "code",
   "execution_count": 91,
   "metadata": {},
   "outputs": [],
   "source": [
    "mb_x = np.empty((0, 784), int)\n",
    "mb_y = np.empty((0), int)"
   ]
  },
  {
   "cell_type": "code",
   "execution_count": 93,
   "metadata": {},
   "outputs": [
    {
     "name": "stdout",
     "output_type": "stream",
     "text": [
      "start time 22:14:53\n",
      "sat for sample 0 with target label 0\n",
      "unsat for sample 0 with target label 1\n",
      "sat for sample 0 with target label 3\n",
      "sat for sample 0 with target label 4\n",
      "sat for sample 0 with target label 5\n",
      "unsat for sample 0 with target label 6\n",
      "sat for sample 0 with target label 7\n",
      "sat for sample 0 with target label 8\n",
      "sat for sample 0 with target label 9\n",
      "mb data shape (7, 784) (7,)\n",
      "end time 22:35:57\n"
     ]
    }
   ],
   "source": [
    "print(\"start time\", datetime.now().strftime(\"%H:%M:%S\"))\n",
    "\n",
    "samples_to_try = zip(\n",
    "    train_x[5:5+MB_NUM_SAMPLES],\n",
    "    train_y[5:5+MB_NUM_SAMPLES]\n",
    ")\n",
    "for sample_index, (image, actual_label) in enumerate(samples_to_try):\n",
    "    \n",
    "    for target_label in range(10):\n",
    "        if target_label == actual_label: continue\n",
    "        \n",
    "        mb_model = Marabou.read_tf(MB_MODEL_PATH, modelType=\"savedModel_v2\")\n",
    "        mb_input_vars = mb_model.inputVars[0][0]\n",
    "        mb_output_vars = mb_model.outputVars[0]\n",
    "        \n",
    "        for variable, value in enumerate(image):\n",
    "            mb_model.setLowerBound(mb_input_vars[variable], value - MB_DELTA)\n",
    "            mb_model.setUpperBound(mb_input_vars[variable], value + MB_DELTA)\n",
    "        \n",
    "        #for label in range(10):\n",
    "            #if label != target_label:\n",
    "                #mb_model.addInequality(\n",
    "                    #[ mb_output_vars[label], mb_output_vars[target_label] ],\n",
    "                    #[ +1.0, -1.0 ], -1.0 * MB_EPSILON,\n",
    "                    #[ mb_output_vars[target_label], mb_output_vars[label] ],\n",
    "                    #[ +1.0, -1.0 ], MB_EPSILON,\n",
    "                #)\n",
    "        mb_model.addInequality(\n",
    "            [ mb_output_vars[actual_label], mb_output_vars[target_label] ],\n",
    "            [ +1.0, -1.0 ], -1.0 * MB_EPSILON\n",
    "        )\n",
    "        \n",
    "        mb_variables, stats = mb_model.solve(\"marabou.log\", verbose=False)\n",
    "        if not mb_variables:\n",
    "            print(f\"unsat for sample {sample_index} with target label {target_label}\")\n",
    "            continue\n",
    "        print(f\"sat for sample {sample_index} with target label {target_label}\")\n",
    "        \n",
    "        disturbed_image = list()\n",
    "        for i in range(0, 784):\n",
    "            disturbed_image.append(mb_variables[mb_input_vars[i]])\n",
    "        \n",
    "        mb_x = np.append(mb_x, np.array([disturbed_image]), axis=0)\n",
    "        mb_y = np.append(mb_y, np.array([actual_label]), axis=0)\n",
    "\n",
    "print(\"mb data shape\", mb_x.shape, mb_y.shape)\n",
    "np.save(\"mb_x.npy\", mb_x)\n",
    "np.save(\"mb_y.npy\", mb_y)\n",
    "\n",
    "print(\"end time\", datetime.now().strftime(\"%H:%M:%S\"))"
   ]
  },
  {
   "cell_type": "code",
   "execution_count": null,
   "metadata": {},
   "outputs": [],
   "source": []
  },
  {
   "cell_type": "code",
   "execution_count": 94,
   "metadata": {},
   "outputs": [
    {
     "name": "stdout",
     "output_type": "stream",
     "text": [
      "1/1 [==============================] - 0s 10ms/step - loss: 3.5563 - sparse_categorical_accuracy: 0.0000e+00\n"
     ]
    },
    {
     "data": {
      "text/plain": [
       "[3.556345224380493, 0.0]"
      ]
     },
     "execution_count": 94,
     "metadata": {},
     "output_type": "execute_result"
    }
   ],
   "source": [
    "tf_model.evaluate(mb_x, mb_y)"
   ]
  },
  {
   "cell_type": "code",
   "execution_count": 103,
   "metadata": {},
   "outputs": [
    {
     "name": "stdout",
     "output_type": "stream",
     "text": [
      "tf.Tensor(9, shape=(), dtype=int64)\n",
      "tf.Tensor(\n",
      "[[1.62486176e-04 3.83304496e-07 9.97453835e-03 1.21829435e-02\n",
      "  3.37352358e-05 5.72779449e-04 1.86876207e-06 1.50125695e-03\n",
      "  2.21102629e-02 9.53459680e-01]], shape=(1, 10), dtype=float32)\n"
     ]
    },
    {
     "data": {
      "image/png": "[encoded data removed]",
      "text/plain": [
       "<Figure size 432x288 with 1 Axes>"
      ]
     },
     "metadata": {
      "needs_background": "light"
     },
     "output_type": "display_data"
    }
   ],
   "source": [
    "i = 1\n",
    "print(tf.argmax(tf_model(tf.convert_to_tensor([mb_x[i]]))[0]))\n",
    "print(tf.math.softmax(tf_model(tf.convert_to_tensor([mb_x[i]]))))\n",
    "plt.imshow(mb_x[i].reshape((28, 28)), cmap=plt.cm.binary)\n",
    "plt.imsave(f\"adversarial_{i}.png\", mb_x[i].reshape((28, 28)), cmap=plt.cm.binary)"
   ]
  },
  {
   "cell_type": "markdown",
   "metadata": {},
   "source": [
    "### Plot the Found Samples"
   ]
  },
  {
   "cell_type": "code",
   "execution_count": 15,
   "metadata": {},
   "outputs": [
    {
     "ename": "IndexError",
     "evalue": "index 1 is out of bounds for axis 0 with size 1",
     "output_type": "error",
     "traceback": [
      "\u001b[1;31m---------------------------------------------------------------------------\u001b[0m",
      "\u001b[1;31mIndexError\u001b[0m                                Traceback (most recent call last)",
      "\u001b[1;32m<ipython-input-15-ca23883b33c7>\u001b[0m in \u001b[0;36m<module>\u001b[1;34m\u001b[0m\n\u001b[0;32m      3\u001b[0m \u001b[1;32mfor\u001b[0m \u001b[0mfig_index\u001b[0m \u001b[1;32min\u001b[0m \u001b[0mrange\u001b[0m\u001b[1;33m(\u001b[0m\u001b[1;36m9\u001b[0m\u001b[1;33m)\u001b[0m\u001b[1;33m:\u001b[0m\u001b[1;33m\u001b[0m\u001b[1;33m\u001b[0m\u001b[0m\n\u001b[0;32m      4\u001b[0m     \u001b[0mimage_index\u001b[0m \u001b[1;33m=\u001b[0m \u001b[0mfig_index\u001b[0m\u001b[1;33m\u001b[0m\u001b[1;33m\u001b[0m\u001b[0m\n\u001b[1;32m----> 5\u001b[1;33m     \u001b[0mimage\u001b[0m \u001b[1;33m=\u001b[0m \u001b[0mmb_x\u001b[0m\u001b[1;33m[\u001b[0m\u001b[0mimage_index\u001b[0m\u001b[1;33m]\u001b[0m\u001b[1;33m.\u001b[0m\u001b[0mreshape\u001b[0m\u001b[1;33m(\u001b[0m\u001b[1;33m(\u001b[0m\u001b[1;36m28\u001b[0m\u001b[1;33m,\u001b[0m \u001b[1;36m28\u001b[0m\u001b[1;33m)\u001b[0m\u001b[1;33m)\u001b[0m\u001b[1;33m\u001b[0m\u001b[1;33m\u001b[0m\u001b[0m\n\u001b[0m\u001b[0;32m      6\u001b[0m \u001b[1;33m\u001b[0m\u001b[0m\n\u001b[0;32m      7\u001b[0m     \u001b[0mplt\u001b[0m\u001b[1;33m.\u001b[0m\u001b[0msubplot\u001b[0m\u001b[1;33m(\u001b[0m\u001b[1;36m3\u001b[0m\u001b[1;33m,\u001b[0m \u001b[1;36m3\u001b[0m\u001b[1;33m,\u001b[0m \u001b[0mfig_index\u001b[0m \u001b[1;33m+\u001b[0m \u001b[1;36m1\u001b[0m\u001b[1;33m)\u001b[0m\u001b[1;33m\u001b[0m\u001b[1;33m\u001b[0m\u001b[0m\n",
      "\u001b[1;31mIndexError\u001b[0m: index 1 is out of bounds for axis 0 with size 1"
     ]
    },
    {
     "data": {
      "image/png": "[encoded data removed]",
      "text/plain": [
       "<Figure size 720x720 with 1 Axes>"
      ]
     },
     "metadata": {
      "needs_background": "light"
     },
     "output_type": "display_data"
    }
   ],
   "source": [
    "plt.figure(figsize=(10, 10))\n",
    "\n",
    "for fig_index in range(9):\n",
    "    image_index = fig_index\n",
    "    image = mb_x[image_index].reshape((28, 28))\n",
    "    \n",
    "    plt.subplot(3, 3, fig_index + 1)\n",
    "    plt.imshow(image, cmap=plt.cm.binary)\n",
    "\n",
    "plt.show()"
   ]
  },
  {
   "cell_type": "markdown",
   "metadata": {},
   "source": [
    "## Find Adversarial Samples Using FGSM"
   ]
  },
  {
   "cell_type": "code",
   "execution_count": 16,
   "metadata": {},
   "outputs": [],
   "source": [
    "def fgsm(image, label):\n",
    "    with tf.GradientTape() as tape:\n",
    "        tape.watch(image)\n",
    "        prediction = tf_model(image)\n",
    "        loss = loss_fn(label, prediction)\n",
    "    gradient = tape.gradient(loss, image)\n",
    "    return tf.sign(gradient) * 0.5 + 0.5"
   ]
  },
  {
   "cell_type": "markdown",
   "metadata": {},
   "source": [
    "### Generate Samples"
   ]
  },
  {
   "cell_type": "code",
   "execution_count": 17,
   "metadata": {},
   "outputs": [],
   "source": [
    "fgsm_x = np.empty((0, 784), int)\n",
    "fgsm_y = np.empty((0), int)"
   ]
  },
  {
   "cell_type": "code",
   "execution_count": 18,
   "metadata": {},
   "outputs": [
    {
     "name": "stdout",
     "output_type": "stream",
     "text": [
      "start time 19:00:39\n",
      "fgsm data shape (9000, 784) (9000,)\n",
      "end time 19:01:59\n"
     ]
    }
   ],
   "source": [
    "print(\"start time\", datetime.now().strftime(\"%H:%M:%S\"))\n",
    "\n",
    "samples_to_try = zip(\n",
    "    train_x[:FGSM_NUM_SAMPLES],\n",
    "    train_y[:FGSM_NUM_SAMPLES]\n",
    ")\n",
    "for sample_index, (image, actual_label) in enumerate(samples_to_try):\n",
    "    \n",
    "    for target_label in range(10):\n",
    "        if target_label == actual_label: continue\n",
    "            \n",
    "        perturbations = fgsm(\n",
    "            tf.convert_to_tensor([image]),\n",
    "            tf.convert_to_tensor([actual_label])\n",
    "        )[0]\n",
    "        disturbed_image = tf.clip_by_value(\n",
    "            image + perturbations * FGSM_EPSILON, 0, 255.0)\n",
    "    \n",
    "        fgsm_x = np.append(fgsm_x, np.array([disturbed_image]), axis=0)\n",
    "        fgsm_y = np.append(fgsm_y, np.array([actual_label]), axis=0)\n",
    "\n",
    "print(\"fgsm data shape\", fgsm_x.shape, fgsm_y.shape)\n",
    "np.save(\"fgsm_x.npy\", fgsm_x)\n",
    "np.save(\"fgsm_y.npy\", fgsm_y)\n",
    "\n",
    "print(\"end time\", datetime.now().strftime(\"%H:%M:%S\"))"
   ]
  },
  {
   "cell_type": "markdown",
   "metadata": {},
   "source": [
    "### Plot Some of the Found Samples"
   ]
  },
  {
   "cell_type": "code",
   "execution_count": 19,
   "metadata": {},
   "outputs": [
    {
     "data": {
      "image/png": "[encoded data removed]",
      "text/plain": [
       "<Figure size 720x720 with 9 Axes>"
      ]
     },
     "metadata": {
      "needs_background": "light"
     },
     "output_type": "display_data"
    }
   ],
   "source": [
    "plt.figure(figsize=(10, 10))\n",
    "\n",
    "for fig_index in range(9):\n",
    "    image_index = np.random.choice(fgsm_x.shape[0], 1, replace=False)\n",
    "    image = fgsm_x[image_index].reshape((28, 28))\n",
    "    \n",
    "    plt.subplot(3, 3, fig_index + 1)\n",
    "    plt.imshow(image, cmap=plt.cm.binary)\n",
    "\n",
    "plt.show()"
   ]
  },
  {
   "cell_type": "markdown",
   "metadata": {},
   "source": [
    "### Evaluate on Found FGSM Samples"
   ]
  },
  {
   "cell_type": "code",
   "execution_count": 20,
   "metadata": {},
   "outputs": [
    {
     "name": "stdout",
     "output_type": "stream",
     "text": [
      "282/282 [==============================] - 0s 575us/step - loss: 12.4506 - sparse_categorical_accuracy: 0.0380\n"
     ]
    },
    {
     "data": {
      "text/plain": [
       "[12.450562477111816, 0.03799999877810478]"
      ]
     },
     "execution_count": 20,
     "metadata": {},
     "output_type": "execute_result"
    }
   ],
   "source": [
    "tf_model.evaluate(fgsm_x, fgsm_y)"
   ]
  },
  {
   "cell_type": "markdown",
   "metadata": {},
   "source": [
    "## Adversarial Retraining Using FGSM Samples"
   ]
  },
  {
   "cell_type": "code",
   "execution_count": 21,
   "metadata": {},
   "outputs": [],
   "source": [
    "retrain_x = np.append(train_x, fgsm_x, axis=0)\n",
    "retrain_y = np.append(train_y, fgsm_y, axis=0)\n",
    "retrain_data = tf.data.Dataset \\\n",
    "    .from_tensor_slices((retrain_x, retrain_y)) \\\n",
    "    .shuffle(FGSM_RETRAIN_SHUFFLE) \\\n",
    "    .batch(FGSM_RETRAIN_BATCH)"
   ]
  },
  {
   "cell_type": "code",
   "execution_count": 22,
   "metadata": {},
   "outputs": [
    {
     "name": "stdout",
     "output_type": "stream",
     "text": [
      "Epoch 1/5\n",
      "2157/2157 [==============================] - 2s 825us/step - loss: 0.3723 - sparse_categorical_accuracy: 0.9040\n",
      "Epoch 2/5\n",
      "2157/2157 [==============================] - 2s 810us/step - loss: 0.1860 - sparse_categorical_accuracy: 0.9457\n",
      "Epoch 3/5\n",
      "2157/2157 [==============================] - 2s 821us/step - loss: 0.1532 - sparse_categorical_accuracy: 0.9560\n",
      "Epoch 4/5\n",
      "2157/2157 [==============================] - 2s 853us/step - loss: 0.1415 - sparse_categorical_accuracy: 0.9595\n",
      "Epoch 5/5\n",
      "2157/2157 [==============================] - 2s 824us/step - loss: 0.1321 - sparse_categorical_accuracy: 0.9612\n"
     ]
    },
    {
     "data": {
      "text/plain": [
       "<tensorflow.python.keras.callbacks.History at 0x2c809c98d30>"
      ]
     },
     "execution_count": 22,
     "metadata": {},
     "output_type": "execute_result"
    }
   ],
   "source": [
    "tf_model.fit(retrain_data, epochs=FGSM_RETRAIN_EPOCHS)"
   ]
  },
  {
   "cell_type": "markdown",
   "metadata": {},
   "source": [
    "### Evaluate on Test Data"
   ]
  },
  {
   "cell_type": "code",
   "execution_count": 23,
   "metadata": {},
   "outputs": [
    {
     "name": "stdout",
     "output_type": "stream",
     "text": [
      "313/313 [==============================] - 0s 330us/step - loss: 0.1733 - sparse_categorical_accuracy: 0.9547\n"
     ]
    },
    {
     "data": {
      "text/plain": [
       "[0.1732788383960724, 0.9546999931335449]"
      ]
     },
     "execution_count": 23,
     "metadata": {},
     "output_type": "execute_result"
    }
   ],
   "source": [
    "tf_model.evaluate(test_x, test_y)"
   ]
  },
  {
   "cell_type": "markdown",
   "metadata": {},
   "source": [
    "### Evaluate on FGSM Samples"
   ]
  },
  {
   "cell_type": "code",
   "execution_count": 24,
   "metadata": {},
   "outputs": [
    {
     "name": "stdout",
     "output_type": "stream",
     "text": [
      "282/282 [==============================] - 0s 541us/step - loss: 0.0021 - sparse_categorical_accuracy: 1.0000\n"
     ]
    },
    {
     "data": {
      "text/plain": [
       "[0.0020798910409212112, 1.0]"
      ]
     },
     "execution_count": 24,
     "metadata": {},
     "output_type": "execute_result"
    }
   ],
   "source": [
    "tf_model.evaluate(fgsm_x, fgsm_y)"
   ]
  },
  {
   "cell_type": "markdown",
   "metadata": {},
   "source": [
    "## Try to Prove Adversarial Robustness Using Marabou Again"
   ]
  },
  {
   "cell_type": "markdown",
   "metadata": {},
   "source": [
    "### Export for Marabou"
   ]
  },
  {
   "cell_type": "code",
   "execution_count": 25,
   "metadata": {},
   "outputs": [
    {
     "name": "stderr",
     "output_type": "stream",
     "text": [
      "WARNING:absl:Found untraced functions such as re_lu_layer_call_fn, re_lu_layer_call_and_return_conditional_losses, re_lu_1_layer_call_fn, re_lu_1_layer_call_and_return_conditional_losses, re_lu_layer_call_fn while saving (showing 5 of 10). These functions will not be directly callable after loading.\n",
      "WARNING:absl:Found untraced functions such as re_lu_layer_call_fn, re_lu_layer_call_and_return_conditional_losses, re_lu_1_layer_call_fn, re_lu_1_layer_call_and_return_conditional_losses, re_lu_layer_call_fn while saving (showing 5 of 10). These functions will not be directly callable after loading.\n"
     ]
    },
    {
     "name": "stdout",
     "output_type": "stream",
     "text": [
      "INFO:tensorflow:Assets written to: mnist_model\\assets\n"
     ]
    },
    {
     "name": "stderr",
     "output_type": "stream",
     "text": [
      "INFO:tensorflow:Assets written to: mnist_model\\assets\n"
     ]
    }
   ],
   "source": [
    "tf.saved_model.save(tf_model, MB_MODEL_PATH)"
   ]
  },
  {
   "cell_type": "markdown",
   "metadata": {},
   "source": [
    "### Generate Samples"
   ]
  },
  {
   "cell_type": "code",
   "execution_count": 26,
   "metadata": {},
   "outputs": [],
   "source": [
    "mb_x = np.empty((0, 784), int)\n",
    "mb_y = np.empty((0), int)"
   ]
  },
  {
   "cell_type": "code",
   "execution_count": 27,
   "metadata": {},
   "outputs": [
    {
     "name": "stdout",
     "output_type": "stream",
     "text": [
      "start time 19:02:57\n",
      "sat for sample 0 with target label 0\n",
      "sat for sample 0 with target label 1\n",
      "sat for sample 0 with target label 2\n",
      "sat for sample 0 with target label 3\n",
      "sat for sample 0 with target label 4\n",
      "sat for sample 0 with target label 6\n",
      "sat for sample 0 with target label 7\n",
      "sat for sample 0 with target label 8\n",
      "sat for sample 0 with target label 9\n",
      "mb data shape (9, 784) (9,)\n",
      "end time 19:03:22\n"
     ]
    }
   ],
   "source": [
    "print(\"start time\", datetime.now().strftime(\"%H:%M:%S\"))\n",
    "\n",
    "samples_to_try = zip(\n",
    "    train_x[:MB_NUM_SAMPLES],\n",
    "    train_y[:MB_NUM_SAMPLES]\n",
    ")\n",
    "for sample_index, (image, actual_label) in enumerate(samples_to_try):\n",
    "    \n",
    "    for target_label in range(10):\n",
    "        if target_label == actual_label: continue\n",
    "        \n",
    "        mb_model = Marabou.read_tf(MB_MODEL_PATH, modelType=\"savedModel_v2\")\n",
    "        mb_input_vars = mb_model.inputVars[0][0]\n",
    "        mb_output_vars = mb_model.outputVars[0]\n",
    "        \n",
    "        for variable, value in enumerate(image):\n",
    "            mb_model.setLowerBound(mb_input_vars[variable], value - MB_DELTA)\n",
    "            mb_model.setUpperBound(mb_input_vars[variable], value + MB_DELTA)\n",
    "        \n",
    "        for label in range(10):\n",
    "            if label != target_label:\n",
    "                mb_model.addInequality(\n",
    "                    [ mb_output_vars[label], mb_output_vars[target_label] ],\n",
    "                    [ +1.0, -1.0 ], -1.0 * MB_EPSILON,\n",
    "                )\n",
    "        \n",
    "        mb_variables, stats = mb_model.solve(\"marabou.log\", verbose=False)\n",
    "        if not mb_variables:\n",
    "            print(f\"unsat for sample {sample_index} with target label {target_label}\")\n",
    "            continue\n",
    "        print(f\"sat for sample {sample_index} with target label {target_label}\")\n",
    "        \n",
    "        disturbed_image = list()\n",
    "        for i in range(0, 784):\n",
    "            disturbed_image.append(mb_variables[mb_input_vars[i]])\n",
    "        \n",
    "        mb_x = np.append(mb_x, np.array([disturbed_image]), axis=0)\n",
    "        mb_y = np.append(mb_y, np.array([actual_label]), axis=0)\n",
    "\n",
    "print(\"mb data shape\", mb_x.shape, mb_y.shape)\n",
    "np.save(\"mb_x.npy\", mb_x)\n",
    "np.save(\"mb_y.npy\", mb_y)\n",
    "\n",
    "print(\"end time\", datetime.now().strftime(\"%H:%M:%S\"))"
   ]
  },
  {
   "cell_type": "markdown",
   "metadata": {},
   "source": [
    "### Plot the Found Samples"
   ]
  },
  {
   "cell_type": "code",
   "execution_count": 28,
   "metadata": {},
   "outputs": [
    {
     "data": {
      "image/png": "[encoded data removed]",
      "text/plain": [
       "<Figure size 720x720 with 9 Axes>"
      ]
     },
     "metadata": {
      "needs_background": "light"
     },
     "output_type": "display_data"
    }
   ],
   "source": [
    "plt.figure(figsize=(10, 10))\n",
    "\n",
    "for fig_index in range(9):\n",
    "    image_index = fig_index\n",
    "    image = mb_x[image_index].reshape((28, 28))\n",
    "    \n",
    "    plt.subplot(3, 3, fig_index + 1)\n",
    "    plt.imshow(image, cmap=plt.cm.binary)\n",
    "\n",
    "plt.show()"
   ]
  },
  {
   "cell_type": "markdown",
   "metadata": {},
   "source": [
    "### Evaluate on Found Samples"
   ]
  },
  {
   "cell_type": "code",
   "execution_count": 29,
   "metadata": {},
   "outputs": [
    {
     "name": "stdout",
     "output_type": "stream",
     "text": [
      "1/1 [==============================] - 0s 11ms/step - loss: 1.5397 - sparse_categorical_accuracy: 0.0000e+00\n"
     ]
    },
    {
     "data": {
      "text/plain": [
       "[1.5397276878356934, 0.0]"
      ]
     },
     "execution_count": 29,
     "metadata": {},
     "output_type": "execute_result"
    }
   ],
   "source": [
    "tf_model.evaluate(mb_x, mb_y)"
   ]
  },
  {
   "cell_type": "code",
   "execution_count": null,
   "metadata": {},
   "outputs": [],
   "source": []
  },
  {
   "cell_type": "code",
   "execution_count": null,
   "metadata": {},
   "outputs": [],
   "source": []
  }
 ],
 "metadata": {
  "kernelspec": {
   "display_name": "Python 3",
   "language": "python",
   "name": "python3"
  },
  "language_info": {
   "codemirror_mode": {
    "name": "ipython",
    "version": 3
   },
   "file_extension": ".py",
   "mimetype": "text/x-python",
   "name": "python",
   "nbconvert_exporter": "python",
   "pygments_lexer": "ipython3",
   "version": "3.8.7"
  }
 },
 "nbformat": 4,
 "nbformat_minor": 4
}
