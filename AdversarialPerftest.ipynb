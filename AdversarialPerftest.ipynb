{
 "cells": [
  {
   "cell_type": "code",
   "execution_count": 1,
   "metadata": {},
   "outputs": [
    {
     "name": "stdout",
     "output_type": "stream",
     "text": [
      "WARNING:tensorflow:From c:\\users\\leon\\appdata\\local\\programs\\python\\python38\\lib\\site-packages\\tensorflow\\python\\compat\\v2_compat.py:96: disable_resource_variables (from tensorflow.python.ops.variable_scope) is deprecated and will be removed in a future version.\n",
      "Instructions for updating:\n",
      "non-resource variables are not supported in the long term\n"
     ]
    },
    {
     "name": "stderr",
     "output_type": "stream",
     "text": [
      "C:\\Users\\Leon\\Downloads\\Marabou-master\\Marabou-master\\maraboupy\\Marabou.py:31: UserWarning: ONNX parser is unavailable because onnx or onnxruntime packages are not installed\n",
      "  warnings.warn(\"ONNX parser is unavailable because onnx or onnxruntime packages are not installed\")\n"
     ]
    }
   ],
   "source": [
    "import numpy as np\n",
    "import tensorflow as tf\n",
    "import matplotlib.pyplot as plt\n",
    "from maraboupy import Marabou\n",
    "from datetime import datetime"
   ]
  },
  {
   "cell_type": "code",
   "execution_count": 2,
   "metadata": {},
   "outputs": [],
   "source": [
    "TF_TRAIN_SHUFFLE = 10_000\n",
    "TF_TRAIN_BATCH = 32\n",
    "TF_TRAIN_EPOCHS = 5"
   ]
  },
  {
   "cell_type": "code",
   "execution_count": 3,
   "metadata": {},
   "outputs": [],
   "source": [
    "MB_MODEL_PATH = \"mnist_model\"\n",
    "MB_NUM_SAMPLES = 25"
   ]
  },
  {
   "cell_type": "code",
   "execution_count": 4,
   "metadata": {},
   "outputs": [
    {
     "name": "stdout",
     "output_type": "stream",
     "text": [
      "train data shape (60000, 784) (60000,)\n",
      "test data shape (10000, 784) (10000,)\n"
     ]
    }
   ],
   "source": [
    "(train_x, train_y), (test_x, test_y) = tf.keras.datasets.mnist.load_data()\n",
    "train_x = train_x.reshape((train_x.shape[0], 784)) / 255.0\n",
    "test_x = test_x.reshape((test_x.shape[0], 784)) / 255.0\n",
    "print(\"train data shape\", train_x.shape, train_y.shape)\n",
    "print(\"test data shape\", test_x.shape, test_y.shape)"
   ]
  },
  {
   "cell_type": "code",
   "execution_count": 5,
   "metadata": {},
   "outputs": [],
   "source": [
    "train_data = tf.data.Dataset \\\n",
    "    .from_tensor_slices((train_x, train_y)) \\\n",
    "    .shuffle(TF_TRAIN_SHUFFLE) \\\n",
    "    .batch(TF_TRAIN_BATCH)"
   ]
  },
  {
   "cell_type": "code",
   "execution_count": 6,
   "metadata": {},
   "outputs": [],
   "source": [
    "tf_model = tf.keras.models.Sequential([\n",
    "    tf.keras.layers.Input(shape=(784)),\n",
    "    tf.keras.layers.Dense(16, activation=tf.keras.layers.ReLU()),\n",
    "    tf.keras.layers.Dense(16, activation=tf.keras.layers.ReLU()),\n",
    "    tf.keras.layers.Dense(10),\n",
    "])"
   ]
  },
  {
   "cell_type": "code",
   "execution_count": 7,
   "metadata": {},
   "outputs": [
    {
     "name": "stdout",
     "output_type": "stream",
     "text": [
      "Model: \"sequential\"\n",
      "_________________________________________________________________\n",
      "Layer (type)                 Output Shape              Param #   \n",
      "=================================================================\n",
      "dense (Dense)                (None, 16)                12560     \n",
      "_________________________________________________________________\n",
      "dense_1 (Dense)              (None, 16)                272       \n",
      "_________________________________________________________________\n",
      "dense_2 (Dense)              (None, 10)                170       \n",
      "=================================================================\n",
      "Total params: 13,002\n",
      "Trainable params: 13,002\n",
      "Non-trainable params: 0\n",
      "_________________________________________________________________\n"
     ]
    }
   ],
   "source": [
    "tf_model.summary()"
   ]
  },
  {
   "cell_type": "code",
   "execution_count": 8,
   "metadata": {},
   "outputs": [],
   "source": [
    "loss_fn = tf.keras.losses.SparseCategoricalCrossentropy(from_logits=True)\n",
    "metric_fn = tf.keras.metrics.SparseCategoricalAccuracy()\n",
    "tf_model.compile(loss=loss_fn, metrics=[metric_fn])"
   ]
  },
  {
   "cell_type": "code",
   "execution_count": 9,
   "metadata": {},
   "outputs": [
    {
     "name": "stdout",
     "output_type": "stream",
     "text": [
      "Epoch 1/5\n",
      "1875/1875 [==============================] - 1s 566us/step - loss: 0.7317 - sparse_categorical_accuracy: 0.7982\n",
      "Epoch 2/5\n",
      "1875/1875 [==============================] - 1s 603us/step - loss: 0.2675 - sparse_categorical_accuracy: 0.9239\n",
      "Epoch 3/5\n",
      "1875/1875 [==============================] - 1s 612us/step - loss: 0.2340 - sparse_categorical_accuracy: 0.9346\n",
      "Epoch 4/5\n",
      "1875/1875 [==============================] - 1s 600us/step - loss: 0.2052 - sparse_categorical_accuracy: 0.9421\n",
      "Epoch 5/5\n",
      "1875/1875 [==============================] - 1s 603us/step - loss: 0.1856 - sparse_categorical_accuracy: 0.9473\n"
     ]
    },
    {
     "data": {
      "text/plain": [
       "<tensorflow.python.keras.callbacks.History at 0x1e1cc053f70>"
      ]
     },
     "execution_count": 9,
     "metadata": {},
     "output_type": "execute_result"
    }
   ],
   "source": [
    "tf_model.fit(train_data, epochs=TF_TRAIN_EPOCHS)"
   ]
  },
  {
   "cell_type": "code",
   "execution_count": 10,
   "metadata": {},
   "outputs": [
    {
     "name": "stdout",
     "output_type": "stream",
     "text": [
      "313/313 [==============================] - 0s 320us/step - loss: 0.1813 - sparse_categorical_accuracy: 0.9501\n"
     ]
    },
    {
     "data": {
      "text/plain": [
       "[0.18131233751773834, 0.9501000046730042]"
      ]
     },
     "execution_count": 10,
     "metadata": {},
     "output_type": "execute_result"
    }
   ],
   "source": [
    "tf_model.evaluate(test_x, test_y)"
   ]
  },
  {
   "cell_type": "code",
   "execution_count": 11,
   "metadata": {},
   "outputs": [
    {
     "name": "stderr",
     "output_type": "stream",
     "text": [
      "WARNING:absl:Found untraced functions such as re_lu_layer_call_and_return_conditional_losses, re_lu_layer_call_fn, re_lu_1_layer_call_and_return_conditional_losses, re_lu_1_layer_call_fn, re_lu_layer_call_fn while saving (showing 5 of 10). These functions will not be directly callable after loading.\n",
      "WARNING:absl:Found untraced functions such as re_lu_layer_call_and_return_conditional_losses, re_lu_layer_call_fn, re_lu_1_layer_call_and_return_conditional_losses, re_lu_1_layer_call_fn, re_lu_layer_call_fn while saving (showing 5 of 10). These functions will not be directly callable after loading.\n"
     ]
    },
    {
     "name": "stdout",
     "output_type": "stream",
     "text": [
      "INFO:tensorflow:Assets written to: mnist_model\\assets\n"
     ]
    },
    {
     "name": "stderr",
     "output_type": "stream",
     "text": [
      "INFO:tensorflow:Assets written to: mnist_model\\assets\n"
     ]
    }
   ],
   "source": [
    "tf.saved_model.save(tf_model, MB_MODEL_PATH)"
   ]
  },
  {
   "cell_type": "code",
   "execution_count": 12,
   "metadata": {},
   "outputs": [],
   "source": [
    "measurements = []"
   ]
  },
  {
   "cell_type": "code",
   "execution_count": 13,
   "metadata": {},
   "outputs": [
    {
     "name": "stdout",
     "output_type": "stream",
     "text": [
      "{'epsilon': 0.005, 'delta': 0.005, 'times': [4.685155, 4.476322, 4.963303, 5.048593, 4.537713, 4.491411, 5.363441, 4.409579, 4.919583, 4.546218, 4.931765, 4.811795, 4.405885, 4.45844, 4.967932, 4.579811, 4.681571, 4.75942, 3.694973, 4.659919, 4.4499, 4.45009, 5.061902, 4.964507, 1.164712], 'nfound': 2}\n",
      "{'epsilon': 0.005, 'delta': 0.01, 'times': [2.750295, 4.988021, 5.312478, 5.182414, 4.979972, 4.995299, 5.245764, 4.944964, 5.308021, 5.240682, 5.321949, 5.349365, 5.183916, 5.153039, 5.317294, 4.994898, 5.063473, 5.11486, 4.165242, 5.350357, 4.988575, 4.874874, 6.543041, 5.249664, 0.684014], 'nfound': 3}\n",
      "{'epsilon': 0.005, 'delta': 0.05, 'times': [27.827334, 177.272852, 8.988913, 1.460785, 175.518423, 113.963549, 7.582126, 10.446456, 144.768963, 67.923645, 1.392657, 1.94755, 42.700733, 11.118714, 64.644075, 1.400323, 1.114109, 25.638682, 0.961083, 32.959593, 11.183238, 30.628177, 1.60271, 1.669908, 0.649712], 'nfound': 24}\n",
      "{'epsilon': 0.005, 'delta': 0.1, 'times': [1.519937, 2.034748, 1.160245, 0.65626, 1.406737, 1.828177, 1.261595, 0.747681, 2.071495, 1.41639, 0.879126, 1.601235, 1.783312, 0.852815, 1.210764, 0.808662, 1.212755, 1.314071, 0.617612, 1.951756, 1.858984, 1.764576, 1.745418, 1.637583, 0.848839], 'nfound': 25}\n",
      "{'epsilon': 0.005, 'delta': 0.2, 'times': [1.346991, 0.870792, 1.002296, 2.505211, 0.681827, 1.289518, 1.387178, 0.59542, 1.483385, 0.810518, 0.724877, 1.662352, 0.966853, 0.616828, 0.937466, 0.917329, 0.603494, 1.943434, 0.928545, 1.574975, 0.790924, 1.576459, 1.6749, 1.165, 1.027671], 'nfound': 25}\n",
      "{'epsilon': 0.005, 'delta': 0.3, 'times': [1.034384, 0.639313, 1.119761, 1.631475, 0.866707, 1.123656, 1.234321, 0.723138, 1.053046, 0.987235, 0.752687, 1.739653, 0.649123, 0.840696, 0.988746, 0.759949, 0.714078, 1.342314, 0.644571, 1.87457, 0.656593, 0.6794, 1.87243, 0.838711, 0.818792], 'nfound': 25}\n",
      "{'epsilon': 0.01, 'delta': 0.005, 'times': [4.581905, 4.449313, 4.931425, 4.995633, 4.497329, 4.508762, 5.350989, 4.425374, 4.932148, 4.526255, 4.920617, 4.819101, 4.401, 4.461561, 4.968809, 4.560996, 4.695868, 4.760323, 3.669535, 4.64392, 4.451892, 4.45234, 5.069154, 4.961503, 1.16956], 'nfound': 2}\n",
      "{'epsilon': 0.01, 'delta': 0.01, 'times': [2.691744, 4.990882, 5.372952, 5.194952, 5.022876, 5.066018, 5.353907, 5.080214, 5.447991, 5.394396, 5.833035, 6.48916, 6.270838, 6.078134, 5.448365, 5.133704, 5.198248, 5.243137, 4.181622, 5.358271, 4.993535, 4.892852, 6.326389, 5.280051, 0.617342], 'nfound': 3}\n",
      "{'epsilon': 0.01, 'delta': 0.05, 'times': [18.404607, 162.829036, 6.489567, 1.390138, 205.877137, 125.126589, 13.532813, 10.769616, 153.410959, 74.002431, 1.292175, 1.643513, 45.857059, 9.867355, 32.383773, 1.570143, 0.848118, 28.427528, 0.76774, 5.371593, 10.004474, 36.459074, 2.125579, 1.558727, 0.633303], 'nfound': 24}\n",
      "{'epsilon': 0.01, 'delta': 0.1, 'times': [2.140828, 1.936746, 1.105938, 0.69089, 1.453845, 2.021751, 1.831087, 0.94006, 1.530024, 1.884813, 1.067996, 1.724116, 2.016927, 0.910524, 1.326716, 0.894774, 1.000658, 1.205581, 0.696181, 1.762313, 1.503968, 2.107402, 2.072119, 1.97057, 1.356132], 'nfound': 25}\n",
      "{'epsilon': 0.01, 'delta': 0.2, 'times': [1.358309, 0.950939, 0.721069, 3.018776, 0.609468, 1.037321, 1.475343, 1.230163, 1.184365, 0.974123, 0.654403, 1.868989, 0.987325, 0.544574, 1.131511, 1.099394, 0.89747, 0.722645, 0.948415, 1.976666, 1.732954, 0.740008, 1.207631, 1.042205, 1.043797], 'nfound': 25}\n",
      "{'epsilon': 0.01, 'delta': 0.3, 'times': [1.228927, 0.649841, 1.20604, 1.570754, 0.9466, 0.878254, 1.158793, 0.674204, 0.962622, 0.64859, 0.670229, 1.854133, 0.581487, 0.722916, 0.838968, 1.026019, 0.647627, 1.303532, 0.580708, 1.583099, 0.667974, 0.619379, 1.977214, 1.530143, 0.76056], 'nfound': 25}\n",
      "{'epsilon': 0.05, 'delta': 0.005, 'times': [4.636773, 5.219397, 5.007253, 5.00423, 4.546938, 4.563406, 5.449404, 4.515219, 5.015932, 4.651099, 5.078682, 4.95673, 4.432954, 4.5764, 4.982289, 4.608237, 4.690502, 4.779559, 3.681897, 4.681645, 4.471377, 4.471808, 5.087147, 4.985889, 1.246972], 'nfound': 2}\n",
      "{'epsilon': 0.05, 'delta': 0.01, 'times': [2.608808, 5.02042, 5.358361, 5.213468, 5.053423, 5.02749, 5.307606, 4.96002, 5.356947, 5.177683, 5.356571, 5.382802, 5.171079, 5.189632, 5.349787, 5.032253, 5.084183, 5.186325, 3.935596, 5.402585, 4.997691, 4.907502, 6.808591, 5.292945, 0.68842], 'nfound': 3}\n",
      "{'epsilon': 0.05, 'delta': 0.05, 'times': [34.318528, 169.276395, 8.38955, 1.60041, 219.377239, 157.417579, 6.969457, 11.331081, 45.484861, 78.355842, 1.409668, 2.110167, 43.646536, 10.223525, 56.151945, 1.657423, 1.425162, 23.748291, 0.743281, 24.519674, 11.965225, 67.313552, 1.719143, 1.721257, 0.868691], 'nfound': 24}\n",
      "{'epsilon': 0.05, 'delta': 0.1, 'times': [1.91502, 2.393449, 1.266459, 1.961749, 1.457182, 1.572344, 1.913951, 0.945607, 1.580875, 2.799607, 0.59554, 1.803836, 2.115345, 1.924247, 1.601068, 1.514926, 0.677922, 1.39327, 0.646338, 1.309351, 1.7533, 1.797238, 1.33039, 1.874204, 1.127014], 'nfound': 25}\n",
      "{'epsilon': 0.05, 'delta': 0.2, 'times': [1.451671, 1.388102, 1.133771, 0.93579, 1.377341, 1.049311, 1.503833, 0.730275, 1.851585, 0.798588, 0.75312, 1.810739, 1.232407, 0.803926, 1.256685, 0.899935, 0.701403, 0.827798, 0.858708, 1.895645, 1.414351, 2.00542, 1.502882, 1.051789, 1.583254], 'nfound': 25}\n",
      "{'epsilon': 0.05, 'delta': 0.3, 'times': [0.873956, 0.68532, 1.357268, 1.29778, 1.004922, 1.069191, 0.996636, 0.642294, 1.259645, 0.866673, 0.639985, 1.804386, 0.705191, 0.731502, 1.463383, 1.174824, 0.75125, 0.631666, 0.863547, 1.948099, 0.920563, 0.902583, 1.626142, 1.607807, 1.158755], 'nfound': 25}\n",
      "{'epsilon': 0.1, 'delta': 0.005, 'times': [4.954139, 5.433458, 5.095488, 5.262514, 4.711694, 4.62846, 5.957676, 4.546829, 5.003688, 4.647064, 5.160329, 4.988672, 4.529987, 4.574398, 5.14804, 4.719762, 4.811513, 4.888061, 3.808186, 4.799684, 4.571255, 5.023488, 5.228346, 5.116357, 1.211422], 'nfound': 2}\n",
      "{'epsilon': 0.1, 'delta': 0.01, 'times': [2.835527, 5.145867, 5.519836, 5.357196, 5.170184, 5.125982, 5.423879, 5.076581, 5.493738, 5.31206, 5.491189, 5.555637, 5.247605, 5.316593, 5.499434, 5.167235, 5.217834, 5.273978, 4.034486, 5.475293, 5.135684, 5.002832, 7.018247, 5.43211, 0.691829], 'nfound': 3}\n",
      "{'epsilon': 0.1, 'delta': 0.05, 'times': [45.006596, 214.440814, 5.71653, 1.643731, 191.168882, 120.652424, 14.799612, 13.303141, 68.753752, 75.798018, 1.30651, 2.063456, 36.481305, 9.733579, 159.070375, 1.587759, 1.112172, 24.437156, 0.86765, 15.750283, 11.668265, 38.602117, 1.563323, 1.658949, 0.928486], 'nfound': 24}\n",
      "{'epsilon': 0.1, 'delta': 0.1, 'times': [2.191138, 2.582171, 1.167841, 0.843612, 1.719425, 2.289472, 1.261592, 1.23785, 2.665732, 1.554683, 0.952194, 1.836295, 2.000647, 1.809172, 1.599914, 1.396009, 0.786263, 0.981929, 0.627789, 2.015017, 2.099552, 1.830986, 1.519513, 1.253646, 1.232641], 'nfound': 25}\n",
      "{'epsilon': 0.1, 'delta': 0.2, 'times': [1.672146, 1.156336, 0.832658, 0.80338, 0.650789, 1.136988, 2.271878, 0.680143, 1.051591, 0.88427, 0.796809, 1.852117, 0.958317, 0.678635, 0.950457, 0.915385, 1.582765, 0.608278, 0.692565, 1.838129, 0.881669, 0.8991, 1.277962, 0.968818, 1.05318], 'nfound': 25}\n",
      "{'epsilon': 0.1, 'delta': 0.3, 'times': [0.891099, 0.908564, 0.995071, 1.291437, 1.291505, 1.068576, 1.225389, 0.629291, 0.958458, 0.79792, 0.551087, 2.124214, 0.974037, 0.617836, 1.308269, 1.124912, 1.031445, 0.939098, 2.195127, 1.201826, 0.966242, 1.316406, 1.215841, 1.050389, 1.151358], 'nfound': 25}\n",
      "{'epsilon': 0.2, 'delta': 0.005, 'times': [4.722494, 4.878137, 5.058126, 5.634788, 4.654337, 4.630002, 5.222912, 4.549637, 5.027154, 4.601763, 4.947057, 4.982926, 4.463643, 4.59304, 5.090672, 4.71165, 4.809117, 4.897958, 3.759444, 5.594233, 4.586744, 5.066564, 5.227839, 5.10804, 1.205326], 'nfound': 2}\n",
      "{'epsilon': 0.2, 'delta': 0.01, 'times': [2.749722, 5.164161, 5.495293, 5.363105, 5.157856, 5.057695, 5.417326, 5.083297, 5.421296, 5.271626, 5.47735, 5.520954, 5.235396, 5.241774, 5.495012, 5.142292, 5.225518, 5.213993, 4.119114, 5.484304, 5.142679, 4.99563, 6.363189, 5.418226, 0.635102], 'nfound': 3}\n",
      "{'epsilon': 0.2, 'delta': 0.05, 'times': [34.981326, 203.01194, 118.336959, 1.381746, 150.650827, 109.162512, 5.821433, 11.552852, 91.111902, 98.37947, 1.114138, 2.212974, 39.613434, 12.908334, 38.352864, 1.498491, 1.030822, 30.838216, 0.810162, 14.327985, 10.88704, 65.471868, 1.919834, 1.283371, 0.927628], 'nfound': 24}\n",
      "{'epsilon': 0.2, 'delta': 0.1, 'times': [1.839866, 2.610625, 1.279084, 1.082316, 1.794124, 2.247508, 1.770847, 0.685831, 1.585797, 1.630811, 0.83734, 1.937873, 716.838767, 1.866649, 1.590792, 1.060455, 0.889315, 1.085742, 1.004879, 1.96197, 1.677856, 2.105587, 1.737415, 1.798277, 1.273735], 'nfound': 25}\n",
      "{'epsilon': 0.2, 'delta': 0.2, 'times': [1.810331, 2.26402, 1.527216, 0.906257, 1.320195, 1.108845, 1.285562, 1.111777, 1.048976, 0.798008, 0.753546, 1.743949, 0.809358, 0.682139, 1.037721, 1.114579, 0.889049, 1.024348, 0.559093, 1.352142, 1.000338, 0.844085, 1.258638, 1.666825, 1.131854], 'nfound': 25}\n",
      "{'epsilon': 0.2, 'delta': 0.3, 'times': [1.169221, 0.678116, 1.132676, 1.370095, 1.605194, 0.659994, 2.31988, 0.990546, 1.199496, 0.804234, 0.610704, 1.754521, 1.18938, 0.623052, 1.011357, 0.890132, 0.90605, 0.900011, 0.709362, 1.353183, 0.902257, 1.265883, 1.205267, 1.186884, 1.204685], 'nfound': 25}\n",
      "{'epsilon': 0.3, 'delta': 0.005, 'times': [4.680534, 4.618375, 5.037703, 4.901452, 4.625324, 4.647798, 5.098712, 4.571263, 5.006679, 4.597792, 4.90133, 4.773635, 4.564105, 4.617382, 5.261651, 4.875459, 4.91621, 5.049863, 3.814603, 5.807392, 4.636293, 5.214252, 5.333186, 4.993118, 1.196978], 'nfound': 2}\n",
      "{'epsilon': 0.3, 'delta': 0.01, 'times': [2.735827, 5.118837, 5.531837, 5.271935, 5.179982, 5.013644, 5.374686, 4.999154, 5.464936, 5.23385, 5.437082, 5.577702, 5.170442, 5.169043, 5.447516, 5.296275, 5.383911, 5.32711, 4.212707, 5.511066, 5.139417, 4.959858, 6.445818, 5.36782, 0.685783], 'nfound': 3}\n",
      "{'epsilon': 0.3, 'delta': 0.05, 'times': [45.891515, 133.026781, 34.819786, 1.758415, 145.861634, 126.051465, 8.733882, 10.362828, 60.005851, 163.251248, 1.559859, 8.021473, 36.658263, 10.611353, 35.194595, 8.61407, 1.169584, 22.035876, 0.708134, 51.235951, 10.818274, 67.937804, 1.975728, 2.014267, 1.045327], 'nfound': 24}\n",
      "{'epsilon': 0.3, 'delta': 0.1, 'times': [1.868491, 5.920684, 1.416224, 1.032067, 1.751826, 1.806199, 1.487795, 0.745478, 1.52705, 1.408238, 1.043309, 1.84389, 768.556568, 2.210121, 1.515173, 0.95905, 0.691648, 1.185816, 0.794435, 2.221322, 2.126361, 1.856381, 1.09208, 2.096367, 0.885658], 'nfound': 25}\n",
      "{'epsilon': 0.3, 'delta': 0.2, 'times': [1.428452, 1.963221, 1.155151, 0.964542, 0.817954, 1.238733, 1.265786, 0.67829, 1.023702, 0.937411, 0.619385, 1.732853, 0.829732, 0.913558, 0.939517, 1.187556, 0.681178, 0.537938, 0.736053, 1.422834, 1.76818, 0.850206, 1.507963, 1.235823, 1.244585], 'nfound': 25}\n",
      "{'epsilon': 0.3, 'delta': 0.3, 'times': [1.116022, 0.640288, 1.556118, 0.892587, 1.552304, 0.735088, 1.114115, 0.768116, 1.010294, 0.832166, 0.615346, 1.701253, 0.733217, 0.723067, 1.196312, 0.968234, 0.863663, 0.893169, 0.967503, 1.542905, 0.931189, 1.546342, 1.376349, 1.106833, 0.921638], 'nfound': 25}\n"
     ]
    }
   ],
   "source": [
    "for epsilon in [ 0.005, 0.01, 0.05, 0.1, 0.2, 0.3 ]:\n",
    "    for delta in [ 0.005, 0.01, 0.05, 0.1, 0.2, 0.3 ]:\n",
    "        \n",
    "        start_times, stop_times, nfound = [], [], 0\n",
    "        \n",
    "        samples_to_try = zip(\n",
    "            train_x[:MB_NUM_SAMPLES],\n",
    "            train_y[:MB_NUM_SAMPLES]\n",
    "        )\n",
    "        for sample_index, (image, actual_label) in enumerate(samples_to_try):\n",
    "            \n",
    "            start_times.append(datetime.now())\n",
    "    \n",
    "            for target_label in range(10):\n",
    "                if target_label == actual_label: continue\n",
    "        \n",
    "                mb_model = Marabou.read_tf(MB_MODEL_PATH, modelType=\"savedModel_v2\")\n",
    "                mb_input_vars = mb_model.inputVars[0][0]\n",
    "                mb_output_vars = mb_model.outputVars[0]\n",
    "        \n",
    "                for variable, value in enumerate(image):\n",
    "                    mb_model.setLowerBound(mb_input_vars[variable], value - delta)\n",
    "                    mb_model.setUpperBound(mb_input_vars[variable], value + delta)\n",
    "\n",
    "                mb_model.addInequality(\n",
    "                    [ mb_output_vars[actual_label], mb_output_vars[target_label] ],\n",
    "                    [ +1.0, -1.0 ], -1.0 * epsilon\n",
    "                )\n",
    "        \n",
    "                mb_variables, stats = mb_model.solve(\"marabou.log\", verbose=False)\n",
    "                if mb_variables:\n",
    "                    nfound = nfound + 1\n",
    "                    break\n",
    "\n",
    "            stop_times.append(datetime.now())\n",
    "        \n",
    "        times = [\n",
    "            (stop_times[i] - start_times[i]).total_seconds()\n",
    "            for i in range(MB_NUM_SAMPLES)\n",
    "        ]\n",
    "        \n",
    "        measurement = {\n",
    "            \"epsilon\": epsilon, \"delta\": delta,\n",
    "            \"times\": times, \"nfound\": nfound,\n",
    "        }\n",
    "        measurements.append(measurement)\n",
    "        print(measurement)"
   ]
  },
  {
   "cell_type": "code",
   "execution_count": 15,
   "metadata": {},
   "outputs": [
    {
     "name": "stdout",
     "output_type": "stream",
     "text": [
      "36\n"
     ]
    }
   ],
   "source": [
    "print(len(measurements))"
   ]
  },
  {
   "cell_type": "code",
   "execution_count": 57,
   "metadata": {},
   "outputs": [
    {
     "data": {
      "image/png": "[encoded data removed]",
      "text/plain": [
       "<Figure size 432x288 with 2 Axes>"
      ]
     },
     "metadata": {
      "needs_background": "light"
     },
     "output_type": "display_data"
    }
   ],
   "source": [
    "delta_axis = [ 0.005, 0.01, 0.05, 0.1, 0.2, 0.3 ]\n",
    "epsilon_axis = [ 0.005, 0.01, 0.05, 0.1, 0.2, 0.3 ]\n",
    "\n",
    "data = [\n",
    "    [\n",
    "        np.min(measurements[j * len(epsilon_axis) + i][\"times\"])\n",
    "        for i in range(len(delta_axis))\n",
    "    ]\n",
    "    for j in range(len(epsilon_axis))\n",
    "]\n",
    "\n",
    "fig, ax = plt.subplots()\n",
    "im = ax.imshow(data)\n",
    "fig.colorbar(im, ax=ax)\n",
    "\n",
    "ax.set_xlabel(\"Delta\")\n",
    "ax.set_xticks(np.arange(len(delta_axis)))\n",
    "ax.set_xticklabels(delta_axis)\n",
    "\n",
    "ax.set_ylabel(\"Epsilon\")\n",
    "ax.set_yticks(np.arange(len(epsilon_axis)))\n",
    "ax.set_yticklabels(epsilon_axis)\n",
    "\n",
    "ax.set_title(\"Minimal time in seconds\")\n",
    "\n",
    "fig.savefig(\"perftest-mintime.png\")"
   ]
  },
  {
   "cell_type": "code",
   "execution_count": 56,
   "metadata": {},
   "outputs": [
    {
     "data": {
      "image/png": "[encoded data removed]",
      "text/plain": [
       "<Figure size 432x288 with 2 Axes>"
      ]
     },
     "metadata": {
      "needs_background": "light"
     },
     "output_type": "display_data"
    }
   ],
   "source": [
    "delta_axis = [ 0.005, 0.01, 0.05, 0.1, 0.2, 0.3 ]\n",
    "epsilon_axis = [ 0.005, 0.01, 0.05, 0.1, 0.2, 0.3 ]\n",
    "\n",
    "data = [\n",
    "    [\n",
    "        np.average(measurements[j * len(epsilon_axis) + i][\"times\"])\n",
    "        for i in range(len(delta_axis))\n",
    "    ]\n",
    "    for j in range(len(epsilon_axis))\n",
    "]\n",
    "\n",
    "fig, ax = plt.subplots()\n",
    "im = ax.imshow(data)\n",
    "fig.colorbar(im, ax=ax)\n",
    "\n",
    "ax.set_xlabel(\"Delta\")\n",
    "ax.set_xticks(np.arange(len(delta_axis)))\n",
    "ax.set_xticklabels(delta_axis)\n",
    "\n",
    "ax.set_ylabel(\"Epsilon\")\n",
    "ax.set_yticks(np.arange(len(epsilon_axis)))\n",
    "ax.set_yticklabels(epsilon_axis)\n",
    "\n",
    "ax.set_title(\"Average time in seconds\")\n",
    "\n",
    "fig.savefig(\"perftest-avgtime.png\")"
   ]
  },
  {
   "cell_type": "code",
   "execution_count": 55,
   "metadata": {},
   "outputs": [
    {
     "data": {
      "image/png": "[encoded data removed]",
      "text/plain": [
       "<Figure size 432x288 with 2 Axes>"
      ]
     },
     "metadata": {
      "needs_background": "light"
     },
     "output_type": "display_data"
    }
   ],
   "source": [
    "delta_axis = [ 0.005, 0.01, 0.05, 0.1, 0.2, 0.3 ]\n",
    "epsilon_axis = [ 0.005, 0.01, 0.05, 0.1, 0.2, 0.3 ]\n",
    "\n",
    "data = [\n",
    "    [\n",
    "        np.max(measurements[j * len(epsilon_axis) + i][\"times\"])\n",
    "        for i in range(len(delta_axis))\n",
    "    ]\n",
    "    for j in range(len(epsilon_axis))\n",
    "]\n",
    "\n",
    "fig, ax = plt.subplots()\n",
    "im = ax.imshow(data)\n",
    "fig.colorbar(im, ax=ax)\n",
    "\n",
    "ax.set_xlabel(\"Delta\")\n",
    "ax.set_xticks(np.arange(len(delta_axis)))\n",
    "ax.set_xticklabels(delta_axis)\n",
    "\n",
    "ax.set_ylabel(\"Epsilon\")\n",
    "ax.set_yticks(np.arange(len(epsilon_axis)))\n",
    "ax.set_yticklabels(epsilon_axis)\n",
    "\n",
    "ax.set_title(\"Maximal time in seconds\")\n",
    "\n",
    "fig.savefig(\"perftest-maxtime.png\")"
   ]
  },
  {
   "cell_type": "code",
   "execution_count": 54,
   "metadata": {},
   "outputs": [
    {
     "data": {
      "image/png": "[encoded data removed]",
      "text/plain": [
       "<Figure size 432x288 with 2 Axes>"
      ]
     },
     "metadata": {
      "needs_background": "light"
     },
     "output_type": "display_data"
    }
   ],
   "source": [
    "delta_axis = [ 0.005, 0.01, 0.05, 0.1, 0.2, 0.3 ]\n",
    "epsilon_axis = [ 0.005, 0.01, 0.05, 0.1, 0.2, 0.3 ]\n",
    "\n",
    "data = [\n",
    "    [\n",
    "        measurements[j * len(epsilon_axis) + i][\"nfound\"]\n",
    "        for i in range(len(delta_axis))\n",
    "    ]\n",
    "    for j in range(len(epsilon_axis))\n",
    "]\n",
    "\n",
    "fig, ax = plt.subplots()\n",
    "im = ax.imshow(data)\n",
    "fig.colorbar(im, ax=ax)\n",
    "\n",
    "ax.set_xlabel(\"Delta\")\n",
    "ax.set_xticks(np.arange(len(delta_axis)))\n",
    "ax.set_xticklabels(delta_axis)\n",
    "\n",
    "ax.set_ylabel(\"Epsilon\")\n",
    "ax.set_yticks(np.arange(len(epsilon_axis)))\n",
    "ax.set_yticklabels(epsilon_axis)\n",
    "\n",
    "ax.set_title(\"Number of samples found\")\n",
    "\n",
    "fig.savefig(\"perftest-nfound.png\")"
   ]
  },
  {
   "cell_type": "code",
   "execution_count": null,
   "metadata": {},
   "outputs": [],
   "source": []
  }
 ],
 "metadata": {
  "kernelspec": {
   "display_name": "Python 3",
   "language": "python",
   "name": "python3"
  },
  "language_info": {
   "codemirror_mode": {
    "name": "ipython",
    "version": 3
   },
   "file_extension": ".py",
   "mimetype": "text/x-python",
   "name": "python",
   "nbconvert_exporter": "python",
   "pygments_lexer": "ipython3",
   "version": "3.8.7"
  }
 },
 "nbformat": 4,
 "nbformat_minor": 4
}
