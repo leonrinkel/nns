{
 "cells": [
  {
   "cell_type": "code",
   "execution_count": 1,
   "metadata": {},
   "outputs": [],
   "source": [
    "import numpy as np\n",
    "import tensorflow as tf\n",
    "import matplotlib.pyplot as plt"
   ]
  },
  {
   "cell_type": "code",
   "execution_count": 2,
   "metadata": {},
   "outputs": [],
   "source": [
    "train_x = np.arange(-5, 5, 0.001)\n",
    "train_y = train_x ** 2"
   ]
  },
  {
   "cell_type": "code",
   "execution_count": 3,
   "metadata": {},
   "outputs": [
    {
     "name": "stdout",
     "output_type": "stream",
     "text": [
      "Model: \"sequential\"\n",
      "_________________________________________________________________\n",
      "Layer (type)                 Output Shape              Param #   \n",
      "=================================================================\n",
      "dense (Dense)                (None, 10)                20        \n",
      "_________________________________________________________________\n",
      "dense_1 (Dense)              (None, 10)                110       \n",
      "_________________________________________________________________\n",
      "dense_2 (Dense)              (None, 10)                110       \n",
      "_________________________________________________________________\n",
      "dense_3 (Dense)              (None, 10)                110       \n",
      "_________________________________________________________________\n",
      "dense_4 (Dense)              (None, 1)                 11        \n",
      "=================================================================\n",
      "Total params: 361\n",
      "Trainable params: 361\n",
      "Non-trainable params: 0\n",
      "_________________________________________________________________\n",
      "Epoch 1/10\n",
      "313/313 [==============================] - 0s 567us/step - loss: 39.6846\n",
      "Epoch 2/10\n",
      "313/313 [==============================] - 0s 544us/step - loss: 3.7483\n",
      "Epoch 3/10\n",
      "313/313 [==============================] - 0s 547us/step - loss: 0.7516\n",
      "Epoch 4/10\n",
      "313/313 [==============================] - 0s 565us/step - loss: 0.5171\n",
      "Epoch 5/10\n",
      "313/313 [==============================] - 0s 543us/step - loss: 0.2927\n",
      "Epoch 6/10\n",
      "313/313 [==============================] - 0s 541us/step - loss: 0.1094\n",
      "Epoch 7/10\n",
      "313/313 [==============================] - 0s 538us/step - loss: 0.0628\n",
      "Epoch 8/10\n",
      "313/313 [==============================] - 0s 540us/step - loss: 0.0482\n",
      "Epoch 9/10\n",
      "313/313 [==============================] - 0s 535us/step - loss: 0.0399\n",
      "Epoch 10/10\n",
      "313/313 [==============================] - 0s 543us/step - loss: 0.0363\n"
     ]
    },
    {
     "data": {
      "text/plain": [
       "<tensorflow.python.keras.callbacks.History at 0x7ff4e83b96d0>"
      ]
     },
     "execution_count": 3,
     "metadata": {},
     "output_type": "execute_result"
    }
   ],
   "source": [
    "model = tf.keras.models.Sequential([\n",
    "    tf.keras.layers.InputLayer(input_shape=(1)),\n",
    "    tf.keras.layers.Dense(10, activation=tf.keras.layers.LeakyReLU(alpha=0.01)),\n",
    "    tf.keras.layers.Dense(10, activation=tf.keras.layers.LeakyReLU(alpha=0.01)),\n",
    "    tf.keras.layers.Dense(10, activation=tf.keras.layers.LeakyReLU(alpha=0.01)),\n",
    "    tf.keras.layers.Dense(10, activation=tf.keras.layers.LeakyReLU(alpha=0.01)),\n",
    "    \n",
    "    #tf.keras.layers.Dense(10, activation=tf.keras.layers.ReLU()),\n",
    "    #tf.keras.layers.Dense(10, activation=tf.keras.layers.ReLU()),\n",
    "    \n",
    "    #tf.keras.layers.Dense(10, activation=tf.keras.layers.LeakyReLU(alpha=0.3)),\n",
    "    #tf.keras.layers.Dense(10, activation=tf.keras.layers.LeakyReLU(alpha=0.3)),\n",
    "    #tf.keras.layers.Dense(10, activation=tf.keras.layers.LeakyReLU(alpha=0.3)),\n",
    "    tf.keras.layers.Dense(1, activation=tf.keras.layers.ReLU()),\n",
    "])\n",
    "\n",
    "model.summary()\n",
    "\n",
    "model.compile(loss=tf.keras.losses.MeanSquaredError())\n",
    "model.fit(train_x, train_y, epochs=10)"
   ]
  },
  {
   "cell_type": "code",
   "execution_count": 7,
   "metadata": {},
   "outputs": [],
   "source": []
  },
  {
   "cell_type": "code",
   "execution_count": 11,
   "metadata": {},
   "outputs": [
    {
     "data": {
      "image/png": "[encoded data removed]",
      "text/plain": [
       "<Figure size 432x288 with 1 Axes>"
      ]
     },
     "metadata": {
      "needs_background": "light"
     },
     "output_type": "display_data"
    }
   ],
   "source": [
    "predict_x = train_x = np.arange(-20, 20, 0.001)\n",
    "predict_y = model.predict(predict_x)\n",
    "\n",
    "real_x = np.arange(-20, 20, 0.001)\n",
    "real_y = real_x ** 2\n",
    "\n",
    "plt.plot(real_x, real_y, label=\"real\")\n",
    "plt.plot(predict_x, predict_y, label=\"predict\")\n",
    "plt.legend()\n",
    "plt.show()"
   ]
  },
  {
   "cell_type": "code",
   "execution_count": 6,
   "metadata": {},
   "outputs": [
    {
     "name": "stdout",
     "output_type": "stream",
     "text": [
      "WARNING:tensorflow:From /usr/local/lib/python3.8/dist-packages/tensorflow/python/training/tracking/tracking.py:111: Model.state_updates (from tensorflow.python.keras.engine.training) is deprecated and will be removed in a future version.\n",
      "Instructions for updating:\n",
      "This property should not be used in TensorFlow 2.0, as updates are applied automatically.\n",
      "WARNING:tensorflow:From /usr/local/lib/python3.8/dist-packages/tensorflow/python/training/tracking/tracking.py:111: Layer.updates (from tensorflow.python.keras.engine.base_layer) is deprecated and will be removed in a future version.\n",
      "Instructions for updating:\n",
      "This property should not be used in TensorFlow 2.0, as updates are applied automatically.\n",
      "INFO:tensorflow:Assets written to: saved_model/assets\n"
     ]
    }
   ],
   "source": [
    "model.save(\"saved_model\")"
   ]
  },
  {
   "cell_type": "code",
   "execution_count": null,
   "metadata": {},
   "outputs": [],
   "source": []
  }
 ],
 "metadata": {
  "kernelspec": {
   "display_name": "Python 3",
   "language": "python",
   "name": "python3"
  },
  "language_info": {
   "codemirror_mode": {
    "name": "ipython",
    "version": 3
   },
   "file_extension": ".py",
   "mimetype": "text/x-python",
   "name": "python",
   "nbconvert_exporter": "python",
   "pygments_lexer": "ipython3",
   "version": "3.8.5"
  }
 },
 "nbformat": 4,
 "nbformat_minor": 4
}
